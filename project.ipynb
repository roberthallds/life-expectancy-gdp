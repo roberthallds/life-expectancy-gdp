{
 "cells": [
  {
   "cell_type": "markdown",
   "metadata": {},
   "source": [
    "## AN EXAMINATION OF STATISTICAL RELATIONSHIPS BETWEEN THE LIFE EXPECTANCY AND GDP OF FIVE NATIONS\n",
    "\n",
    "A project for my Codecademy Professional Certification (Data Scientist: Machine Learning Specialist)\n",
    "\n",
    "Robert Hall\n",
    "\n",
    "08/01/2024"
   ]
  },
  {
   "cell_type": "code",
   "execution_count": null,
   "metadata": {},
   "outputs": [],
   "source": []
  }
 ],
 "metadata": {
  "kernelspec": {
   "display_name": "base",
   "language": "python",
   "name": "python3"
  },
  "language_info": {
   "name": "python",
   "version": "3.9.12"
  }
 },
 "nbformat": 4,
 "nbformat_minor": 2
}
